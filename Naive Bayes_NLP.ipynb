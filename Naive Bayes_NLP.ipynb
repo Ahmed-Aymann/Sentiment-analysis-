{
 "cells": [
  {
   "cell_type": "code",
   "execution_count": 1,
   "metadata": {},
   "outputs": [],
   "source": [
    "import csv\n",
    "import nltk\n",
    "import random\n",
    "import re\n",
    "from nltk.stem import PorterStemmer\n",
    "\n",
    "Dataset = []"
   ]
  },
  {
   "cell_type": "code",
   "execution_count": 2,
   "metadata": {},
   "outputs": [],
   "source": [
    "def ReadDataset():\n",
    "    global Dataset\n",
    "    with open(\"tweets.csv\", encoding='latin1') as csvfile: \n",
    "        spamreader = csv.reader(csvfile, delimiter=',', quotechar='\"')\n",
    "        for row in spamreader:\n",
    "            Dataset.append([0 if row[0] == \"0\" else \"1\", row[5]])"
   ]
  },
  {
   "cell_type": "code",
   "execution_count": 3,
   "metadata": {},
   "outputs": [],
   "source": [
    "def PreProcessDataset():\n",
    "    global Dataset\n",
    "    \n",
    "    AllTokens = \"\"\n",
    "    random.shuffle(Dataset)\n",
    "    Dataset = Dataset[:10000]\n",
    "    \n",
    "    sent_tokenizer = nltk.data.load('tokenizers/punkt/english.pickle')\n",
    "    stopwords = nltk.corpus.stopwords.words('english')\n",
    "    Stemmer = PorterStemmer()\n",
    "\n",
    "    for row in Dataset:\n",
    "        row[1] = re.sub(r'^https?:\\/\\/.*[\\r\\n]*', '', row[1], flags = re.MULTILINE) # Removing URLs\n",
    "        row[1] = re.sub(r'@\\w+', '', row[1], flags = re.MULTILINE) # Removing accounts tag(@Ali)\n",
    "        row[1] = re.sub(r'[^\\w\\s]','',row[1]) # Removing Punctuation\n",
    "        row[1] = sent_tokenizer.tokenize(row[1])\n",
    "        tokens = []\n",
    "        for sentence in row[1]:\n",
    "            words = nltk.word_tokenize(sentence)\n",
    "            tokens += [Stemmer.stem(token.lower()) for token in words if token.lower() not in stopwords] # Removing stopwords, Stemming and Converting every token to lowercase\n",
    "        row[1] = tokens\n",
    "        AllTokens += ' '.join(row[1])\n",
    "\n",
    "    fdist = nltk.FreqDist(AllTokens.split(' '))\n",
    "    MostCommonTokens = fdist.most_common(10000)\n",
    "    MostCommonTokens = [token for (token, freq) in MostCommonTokens]\n",
    "    Dataset = [({\"token\" : token}, category) for (category, tokens) in Dataset for token in tokens if token not in MostCommonTokens]"
   ]
  },
  {
   "cell_type": "code",
   "execution_count": 4,
   "metadata": {},
   "outputs": [],
   "source": [
    "def TrainModel():\n",
    "    global Dataset\n",
    "\n",
    "    size = int(len(Dataset) * 0.1)\n",
    "    train_set, test_set = Dataset[size:], Dataset[:size]\n",
    "    classifier = nltk.NaiveBayesClassifier.train(train_set)\n",
    "    print(\"Model Accuracy : {0:.2f} %\".format(nltk.classify.accuracy(classifier, test_set) * 100))\n",
    "    print(classifier.show_most_informative_features(5))"
   ]
  },
  {
   "cell_type": "code",
   "execution_count": 5,
   "metadata": {},
   "outputs": [
    {
     "name": "stdout",
     "output_type": "stream",
     "text": [
      "Model Accuracy : 55.28 %\n",
      "Most Informative Features\n",
      "                   token = 'woohoo'            1 : 0      =      2.9 : 1.0\n",
      "                   token = 'oooh'              1 : 0      =      2.9 : 1.0\n",
      "                   token = 'trick'             0 : 1      =      2.5 : 1.0\n",
      "                   token = 'dan'               1 : 0      =      2.2 : 1.0\n",
      "                   token = 'drove'             1 : 0      =      2.2 : 1.0\n",
      "None\n"
     ]
    }
   ],
   "source": [
    "ReadDataset()\n",
    "PreProcessDataset()\n",
    "TrainModel()"
   ]
  }
 ],
 "metadata": {
  "kernelspec": {
   "display_name": "Python 3",
   "language": "python",
   "name": "python3"
  },
  "language_info": {
   "codemirror_mode": {
    "name": "ipython",
    "version": 3
   },
   "file_extension": ".py",
   "mimetype": "text/x-python",
   "name": "python",
   "nbconvert_exporter": "python",
   "pygments_lexer": "ipython3",
   "version": "3.6.5"
  }
 },
 "nbformat": 4,
 "nbformat_minor": 2
}
