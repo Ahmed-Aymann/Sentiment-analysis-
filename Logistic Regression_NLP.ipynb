{
 "cells": [
  {
   "cell_type": "code",
   "execution_count": 1,
   "metadata": {},
   "outputs": [],
   "source": [
    "import sklearn\n",
    "import sklearn.utils\n",
    "from sklearn.feature_extraction.text import TfidfVectorizer\n",
    "from sklearn.model_selection import train_test_split\n",
    "import numpy as np\n",
    "import nltk\n",
    "import random\n",
    "import re\n",
    "from nltk.stem import PorterStemmer\n",
    "\n",
    "import pandas as pd\n",
    "from sklearn.feature_extraction.text import CountVectorizer"
   ]
  },
  {
   "cell_type": "code",
   "execution_count": 2,
   "metadata": {},
   "outputs": [
    {
     "name": "stdout",
     "output_type": "stream",
     "text": [
      "<class 'pandas.core.frame.DataFrame'>\n",
      "RangeIndex: 1600000 entries, 0 to 1599999\n",
      "Data columns (total 2 columns):\n",
      "lable    1600000 non-null int64\n",
      "text     1600000 non-null object\n",
      "dtypes: int64(1), object(1)\n",
      "memory usage: 24.4+ MB\n",
      "None\n",
      "negative:  4954 \t Positive:  5046\n"
     ]
    }
   ],
   "source": [
    "tweets = pd.read_csv(\"tweets.csv\", encoding='latin1', usecols=[0, 5], header=None, delimiter=',', quotechar='\"')\n",
    "tweets.columns = ['lable', 'text']\n",
    "print(tweets.info())\n",
    "tweets = sklearn.utils.shuffle(tweets, random_state=0)\n",
    "tweets = tweets[:10000]\n",
    "z = 0\n",
    "o = 0\n",
    "for n in tweets.lable:\n",
    "    if(n == 0):\n",
    "        z += 1\n",
    "    else:\n",
    "        o +=1\n",
    "\n",
    "print(\"negative: \",z, \"\\t\",\"Positive: \", o)"
   ]
  },
  {
   "cell_type": "code",
   "execution_count": 3,
   "metadata": {},
   "outputs": [],
   "source": [
    "def prepare(data):\n",
    "    X = []\n",
    "    sent_tokenizer = nltk.data.load('tokenizers/punkt/english.pickle')\n",
    "    stopwords = nltk.corpus.stopwords.words('english')\n",
    "    Stemmer = PorterStemmer()\n",
    "    for row in data.text:\n",
    "        row = re.sub(r'^https?:\\/\\/.*[\\r\\n]*', '', row, flags = re.MULTILINE) # Removing URLs\n",
    "        row = re.sub(r'@\\w+', '', row, flags = re.MULTILINE) # Removing accounts tag(@Ali)\n",
    "        row = re.sub(r'[^\\w\\s]','', row) # Removing Punctuation\n",
    "        row = sent_tokenizer.tokenize(row)\n",
    "        tokens = []\n",
    "        for sentence in row:\n",
    "            words = nltk.word_tokenize(sentence)\n",
    "            # Removing stopwords, Stemming and Converting every token to lowercase\n",
    "            tokens += [Stemmer.stem(token.lower()) for token in words if token.lower() not in stopwords] \n",
    "        row = tokens\n",
    "        X += [' '.join(row)]\n",
    "        \n",
    "    #print(X[:10])\n",
    "    return X"
   ]
  },
  {
   "cell_type": "code",
   "execution_count": 4,
   "metadata": {},
   "outputs": [],
   "source": [
    "def Extract_Features(tweets):\n",
    "    #print(tweets[:10])\n",
    "    vectorizer = CountVectorizer()\n",
    "    \n",
    "    features = vectorizer.fit_transform(tweets)\n",
    "    return features"
   ]
  },
  {
   "cell_type": "code",
   "execution_count": 5,
   "metadata": {},
   "outputs": [
    {
     "name": "stderr",
     "output_type": "stream",
     "text": [
      "/home/yousry/DSS_Env/lib/python3.6/site-packages/sklearn/model_selection/_split.py:2179: FutureWarning: From version 0.21, test_size will always complement train_size unless both are specified.\n",
      "  FutureWarning)\n"
     ]
    }
   ],
   "source": [
    "X = Extract_Features(prepare(tweets))\n",
    "y = tweets.lable\n",
    "X_train, X_test, y_train, y_test  = train_test_split(X, y, train_size=0.80, random_state=47)"
   ]
  },
  {
   "cell_type": "code",
   "execution_count": 6,
   "metadata": {},
   "outputs": [
    {
     "name": "stderr",
     "output_type": "stream",
     "text": [
      "/home/yousry/DSS_Env/lib/python3.6/site-packages/sklearn/linear_model/logistic.py:433: FutureWarning: Default solver will be changed to 'lbfgs' in 0.22. Specify a solver to silence this warning.\n",
      "  FutureWarning)\n"
     ]
    }
   ],
   "source": [
    "from sklearn.linear_model import LogisticRegression\n",
    "from sklearn.metrics import classification_report\n",
    "from sklearn.metrics import accuracy_score\n",
    "model = sklearn.linear_model.LogisticRegression(penalty=\"l2\", C=0.1)\n",
    "model.fit(X=X_train, y=y_train)\n",
    "y_pred = model.predict(X_test)"
   ]
  },
  {
   "cell_type": "code",
   "execution_count": 7,
   "metadata": {},
   "outputs": [
    {
     "name": "stdout",
     "output_type": "stream",
     "text": [
      "              precision    recall  f1-score   support\n",
      "\n",
      "    Negative       0.76      0.68      0.71      1004\n",
      "    Positive       0.71      0.78      0.74       996\n",
      "\n",
      "   micro avg       0.73      0.73      0.73      2000\n",
      "   macro avg       0.73      0.73      0.73      2000\n",
      "weighted avg       0.73      0.73      0.73      2000\n",
      "\n",
      "Logistic Regression Accuracy = 72.8 %\n"
     ]
    }
   ],
   "source": [
    "print(classification_report(y_test, y_pred, target_names=['Negative', 'Positive']))\n",
    "print(\"Logistic Regression Accuracy =\", accuracy_score(y_test, y_pred) * 100, \"%\")"
   ]
  }
 ],
 "metadata": {
  "kernelspec": {
   "display_name": "Python 3",
   "language": "python",
   "name": "python3"
  },
  "language_info": {
   "codemirror_mode": {
    "name": "ipython",
    "version": 3
   },
   "file_extension": ".py",
   "mimetype": "text/x-python",
   "name": "python",
   "nbconvert_exporter": "python",
   "pygments_lexer": "ipython3",
   "version": "3.6.5"
  }
 },
 "nbformat": 4,
 "nbformat_minor": 2
}
